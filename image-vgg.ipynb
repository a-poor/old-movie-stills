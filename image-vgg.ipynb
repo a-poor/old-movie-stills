{
 "cells": [
  {
   "cell_type": "code",
   "execution_count": 1,
   "metadata": {},
   "outputs": [],
   "source": [
    "import json\n",
    "\n",
    "import numpy as np\n",
    "import pandas as pd\n",
    "import matplotlib.pyplot as plt\n",
    "%matplotlib inline\n",
    "import seaborn as sns\n",
    "sns.set()\n",
    "\n",
    "import boto3\n",
    "\n",
    "from PIL import Image"
   ]
  },
  {
   "cell_type": "markdown",
   "metadata": {},
   "source": [
    "Connect to `S3`"
   ]
  },
  {
   "cell_type": "code",
   "execution_count": 2,
   "metadata": {},
   "outputs": [
    {
     "data": {
      "text/plain": [
       "s3.ServiceResource()"
      ]
     },
     "execution_count": 2,
     "metadata": {},
     "output_type": "execute_result"
    }
   ],
   "source": [
    "s3 = boto3.resource(\"s3\")\n",
    "s3"
   ]
  },
  {
   "cell_type": "code",
   "execution_count": 3,
   "metadata": {},
   "outputs": [
    {
     "data": {
      "text/plain": [
       "2143"
      ]
     },
     "execution_count": 3,
     "metadata": {},
     "output_type": "execute_result"
    }
   ],
   "source": [
    "with open(\"data/s3-data.json\") as f:\n",
    "    data = json.load(f)\n",
    "len(data)"
   ]
  },
  {
   "cell_type": "markdown",
   "metadata": {},
   "source": [
    "Move the stills info into a DataFrame"
   ]
  },
  {
   "cell_type": "code",
   "execution_count": 4,
   "metadata": {},
   "outputs": [
    {
     "data": {
      "text/html": [
       "<div>\n",
       "<style scoped>\n",
       "    .dataframe tbody tr th:only-of-type {\n",
       "        vertical-align: middle;\n",
       "    }\n",
       "\n",
       "    .dataframe tbody tr th {\n",
       "        vertical-align: top;\n",
       "    }\n",
       "\n",
       "    .dataframe thead th {\n",
       "        text-align: right;\n",
       "    }\n",
       "</style>\n",
       "<table border=\"1\" class=\"dataframe\">\n",
       "  <thead>\n",
       "    <tr style=\"text-align: right;\">\n",
       "      <th></th>\n",
       "      <th>mid</th>\n",
       "      <th>title</th>\n",
       "      <th>url</th>\n",
       "      <th>sid</th>\n",
       "      <th>s3_url</th>\n",
       "    </tr>\n",
       "  </thead>\n",
       "  <tbody>\n",
       "    <tr>\n",
       "      <th>0</th>\n",
       "      <td>0000</td>\n",
       "      <td>10 Cloverfield Lane</td>\n",
       "      <td>https://film-grab.com/2017/03/24/10-cloverfiel...</td>\n",
       "      <td>00</td>\n",
       "      <td>processed/0000_10CloverfieldLane_00000.png</td>\n",
       "    </tr>\n",
       "    <tr>\n",
       "      <th>1</th>\n",
       "      <td>0000</td>\n",
       "      <td>10 Cloverfield Lane</td>\n",
       "      <td>https://film-grab.com/2017/03/24/10-cloverfiel...</td>\n",
       "      <td>01</td>\n",
       "      <td>processed/0000_10CloverfieldLane_00001.png</td>\n",
       "    </tr>\n",
       "    <tr>\n",
       "      <th>2</th>\n",
       "      <td>0000</td>\n",
       "      <td>10 Cloverfield Lane</td>\n",
       "      <td>https://film-grab.com/2017/03/24/10-cloverfiel...</td>\n",
       "      <td>02</td>\n",
       "      <td>processed/0000_10CloverfieldLane_00002.png</td>\n",
       "    </tr>\n",
       "    <tr>\n",
       "      <th>3</th>\n",
       "      <td>0000</td>\n",
       "      <td>10 Cloverfield Lane</td>\n",
       "      <td>https://film-grab.com/2017/03/24/10-cloverfiel...</td>\n",
       "      <td>03</td>\n",
       "      <td>processed/0000_10CloverfieldLane_00003.png</td>\n",
       "    </tr>\n",
       "    <tr>\n",
       "      <th>4</th>\n",
       "      <td>0000</td>\n",
       "      <td>10 Cloverfield Lane</td>\n",
       "      <td>https://film-grab.com/2017/03/24/10-cloverfiel...</td>\n",
       "      <td>04</td>\n",
       "      <td>processed/0000_10CloverfieldLane_00004.png</td>\n",
       "    </tr>\n",
       "  </tbody>\n",
       "</table>\n",
       "</div>"
      ],
      "text/plain": [
       "    mid                title  \\\n",
       "0  0000  10 Cloverfield Lane   \n",
       "1  0000  10 Cloverfield Lane   \n",
       "2  0000  10 Cloverfield Lane   \n",
       "3  0000  10 Cloverfield Lane   \n",
       "4  0000  10 Cloverfield Lane   \n",
       "\n",
       "                                                 url sid  \\\n",
       "0  https://film-grab.com/2017/03/24/10-cloverfiel...  00   \n",
       "1  https://film-grab.com/2017/03/24/10-cloverfiel...  01   \n",
       "2  https://film-grab.com/2017/03/24/10-cloverfiel...  02   \n",
       "3  https://film-grab.com/2017/03/24/10-cloverfiel...  03   \n",
       "4  https://film-grab.com/2017/03/24/10-cloverfiel...  04   \n",
       "\n",
       "                                       s3_url  \n",
       "0  processed/0000_10CloverfieldLane_00000.png  \n",
       "1  processed/0000_10CloverfieldLane_00001.png  \n",
       "2  processed/0000_10CloverfieldLane_00002.png  \n",
       "3  processed/0000_10CloverfieldLane_00003.png  \n",
       "4  processed/0000_10CloverfieldLane_00004.png  "
      ]
     },
     "execution_count": 4,
     "metadata": {},
     "output_type": "execute_result"
    }
   ],
   "source": [
    "movie_stills = []\n",
    "for m in data:\n",
    "    movie_stills.extend([\n",
    "        {\n",
    "            \"mid\": m[\"mid\"],\n",
    "            \"title\": m[\"title\"],\n",
    "            \"url\": m[\"url\"],\n",
    "            \"sid\": f\"{sid:02d}\",\n",
    "            \"s3_url\": s\n",
    "        } for sid, s in enumerate(m[\"stills\"])\n",
    "    ])\n",
    "movie_stills = pd.DataFrame(movie_stills)\n",
    "movie_stills.head()"
   ]
  },
  {
   "cell_type": "code",
   "execution_count": 5,
   "metadata": {},
   "outputs": [
    {
     "name": "stdout",
     "output_type": "stream",
     "text": [
      "There are 132,617 movie stills and 2,127 movies.\n"
     ]
    }
   ],
   "source": [
    "print(f\"There are {len(movie_stills):,d} movie stills and {len(movie_stills['title'].unique()):,d} movies.\")"
   ]
  },
  {
   "cell_type": "markdown",
   "metadata": {},
   "source": [
    "Use pytorch to create embeddings for each image"
   ]
  },
  {
   "cell_type": "code",
   "execution_count": 6,
   "metadata": {},
   "outputs": [],
   "source": [
    "import torch\n",
    "from torch.utils.data import Dataset, DataLoader\n",
    "import torch.nn as nn\n",
    "import torchvision\n",
    "import torchvision.models as models"
   ]
  },
  {
   "cell_type": "code",
   "execution_count": 7,
   "metadata": {},
   "outputs": [
    {
     "data": {
      "text/plain": [
       "VGG(\n",
       "  (features): Sequential(\n",
       "    (0): Conv2d(3, 64, kernel_size=(3, 3), stride=(1, 1), padding=(1, 1))\n",
       "    (1): ReLU(inplace=True)\n",
       "    (2): Conv2d(64, 64, kernel_size=(3, 3), stride=(1, 1), padding=(1, 1))\n",
       "    (3): ReLU(inplace=True)\n",
       "    (4): MaxPool2d(kernel_size=2, stride=2, padding=0, dilation=1, ceil_mode=False)\n",
       "    (5): Conv2d(64, 128, kernel_size=(3, 3), stride=(1, 1), padding=(1, 1))\n",
       "    (6): ReLU(inplace=True)\n",
       "    (7): Conv2d(128, 128, kernel_size=(3, 3), stride=(1, 1), padding=(1, 1))\n",
       "    (8): ReLU(inplace=True)\n",
       "    (9): MaxPool2d(kernel_size=2, stride=2, padding=0, dilation=1, ceil_mode=False)\n",
       "    (10): Conv2d(128, 256, kernel_size=(3, 3), stride=(1, 1), padding=(1, 1))\n",
       "    (11): ReLU(inplace=True)\n",
       "    (12): Conv2d(256, 256, kernel_size=(3, 3), stride=(1, 1), padding=(1, 1))\n",
       "    (13): ReLU(inplace=True)\n",
       "    (14): Conv2d(256, 256, kernel_size=(3, 3), stride=(1, 1), padding=(1, 1))\n",
       "    (15): ReLU(inplace=True)\n",
       "    (16): MaxPool2d(kernel_size=2, stride=2, padding=0, dilation=1, ceil_mode=False)\n",
       "    (17): Conv2d(256, 512, kernel_size=(3, 3), stride=(1, 1), padding=(1, 1))\n",
       "    (18): ReLU(inplace=True)\n",
       "    (19): Conv2d(512, 512, kernel_size=(3, 3), stride=(1, 1), padding=(1, 1))\n",
       "    (20): ReLU(inplace=True)\n",
       "    (21): Conv2d(512, 512, kernel_size=(3, 3), stride=(1, 1), padding=(1, 1))\n",
       "    (22): ReLU(inplace=True)\n",
       "    (23): MaxPool2d(kernel_size=2, stride=2, padding=0, dilation=1, ceil_mode=False)\n",
       "    (24): Conv2d(512, 512, kernel_size=(3, 3), stride=(1, 1), padding=(1, 1))\n",
       "    (25): ReLU(inplace=True)\n",
       "    (26): Conv2d(512, 512, kernel_size=(3, 3), stride=(1, 1), padding=(1, 1))\n",
       "    (27): ReLU(inplace=True)\n",
       "    (28): Conv2d(512, 512, kernel_size=(3, 3), stride=(1, 1), padding=(1, 1))\n",
       "    (29): ReLU(inplace=True)\n",
       "    (30): MaxPool2d(kernel_size=2, stride=2, padding=0, dilation=1, ceil_mode=False)\n",
       "  )\n",
       "  (avgpool): AdaptiveAvgPool2d(output_size=(7, 7))\n",
       "  (classifier): Sequential(\n",
       "    (0): Linear(in_features=25088, out_features=4096, bias=True)\n",
       "    (1): ReLU(inplace=True)\n",
       "    (2): Dropout(p=0.5, inplace=False)\n",
       "    (3): Linear(in_features=4096, out_features=4096, bias=True)\n",
       "    (4): ReLU(inplace=True)\n",
       "    (5): Dropout(p=0.5, inplace=False)\n",
       "    (6): Linear(in_features=4096, out_features=1000, bias=True)\n",
       "  )\n",
       ")"
      ]
     },
     "execution_count": 7,
     "metadata": {},
     "output_type": "execute_result"
    }
   ],
   "source": [
    "vgg16 = models.vgg16(pretrained=True)\n",
    "vgg16"
   ]
  },
  {
   "cell_type": "markdown",
   "metadata": {},
   "source": [
    "Remove the last layer in the classifier"
   ]
  },
  {
   "cell_type": "code",
   "execution_count": 8,
   "metadata": {},
   "outputs": [
    {
     "data": {
      "text/plain": [
       "VGG(\n",
       "  (features): Sequential(\n",
       "    (0): Conv2d(3, 64, kernel_size=(3, 3), stride=(1, 1), padding=(1, 1))\n",
       "    (1): ReLU(inplace=True)\n",
       "    (2): Conv2d(64, 64, kernel_size=(3, 3), stride=(1, 1), padding=(1, 1))\n",
       "    (3): ReLU(inplace=True)\n",
       "    (4): MaxPool2d(kernel_size=2, stride=2, padding=0, dilation=1, ceil_mode=False)\n",
       "    (5): Conv2d(64, 128, kernel_size=(3, 3), stride=(1, 1), padding=(1, 1))\n",
       "    (6): ReLU(inplace=True)\n",
       "    (7): Conv2d(128, 128, kernel_size=(3, 3), stride=(1, 1), padding=(1, 1))\n",
       "    (8): ReLU(inplace=True)\n",
       "    (9): MaxPool2d(kernel_size=2, stride=2, padding=0, dilation=1, ceil_mode=False)\n",
       "    (10): Conv2d(128, 256, kernel_size=(3, 3), stride=(1, 1), padding=(1, 1))\n",
       "    (11): ReLU(inplace=True)\n",
       "    (12): Conv2d(256, 256, kernel_size=(3, 3), stride=(1, 1), padding=(1, 1))\n",
       "    (13): ReLU(inplace=True)\n",
       "    (14): Conv2d(256, 256, kernel_size=(3, 3), stride=(1, 1), padding=(1, 1))\n",
       "    (15): ReLU(inplace=True)\n",
       "    (16): MaxPool2d(kernel_size=2, stride=2, padding=0, dilation=1, ceil_mode=False)\n",
       "    (17): Conv2d(256, 512, kernel_size=(3, 3), stride=(1, 1), padding=(1, 1))\n",
       "    (18): ReLU(inplace=True)\n",
       "    (19): Conv2d(512, 512, kernel_size=(3, 3), stride=(1, 1), padding=(1, 1))\n",
       "    (20): ReLU(inplace=True)\n",
       "    (21): Conv2d(512, 512, kernel_size=(3, 3), stride=(1, 1), padding=(1, 1))\n",
       "    (22): ReLU(inplace=True)\n",
       "    (23): MaxPool2d(kernel_size=2, stride=2, padding=0, dilation=1, ceil_mode=False)\n",
       "    (24): Conv2d(512, 512, kernel_size=(3, 3), stride=(1, 1), padding=(1, 1))\n",
       "    (25): ReLU(inplace=True)\n",
       "    (26): Conv2d(512, 512, kernel_size=(3, 3), stride=(1, 1), padding=(1, 1))\n",
       "    (27): ReLU(inplace=True)\n",
       "    (28): Conv2d(512, 512, kernel_size=(3, 3), stride=(1, 1), padding=(1, 1))\n",
       "    (29): ReLU(inplace=True)\n",
       "    (30): MaxPool2d(kernel_size=2, stride=2, padding=0, dilation=1, ceil_mode=False)\n",
       "  )\n",
       "  (avgpool): AdaptiveAvgPool2d(output_size=(7, 7))\n",
       "  (classifier): Sequential(\n",
       "    (0): Linear(in_features=25088, out_features=4096, bias=True)\n",
       "    (1): ReLU(inplace=True)\n",
       "    (2): Dropout(p=0.5, inplace=False)\n",
       "    (3): Linear(in_features=4096, out_features=4096, bias=True)\n",
       "  )\n",
       ")"
      ]
     },
     "execution_count": 8,
     "metadata": {},
     "output_type": "execute_result"
    }
   ],
   "source": [
    "vgg16.classifier = nn.Sequential(*[vgg16.classifier[i] for i in range(4)])\n",
    "vgg16"
   ]
  },
  {
   "cell_type": "code",
   "execution_count": 9,
   "metadata": {},
   "outputs": [],
   "source": [
    "import io"
   ]
  },
  {
   "cell_type": "code",
   "execution_count": 10,
   "metadata": {},
   "outputs": [
    {
     "data": {
      "text/plain": [
       "s3.Bucket(name='film-stills')"
      ]
     },
     "execution_count": 10,
     "metadata": {},
     "output_type": "execute_result"
    }
   ],
   "source": [
    "stills_bucket = s3.Bucket(\"film-stills\")\n",
    "stills_bucket"
   ]
  },
  {
   "cell_type": "code",
   "execution_count": 11,
   "metadata": {},
   "outputs": [],
   "source": [
    "def load_image(url=None,i=None):\n",
    "    assert url is not None or i is not None\n",
    "    if url is None:\n",
    "        # Pick the correct s3 key\n",
    "        url = movie_stills.loc[i,\"s3_url\"]\n",
    "    # Load image into a BytesIO obj\n",
    "    f = io.BytesIO()\n",
    "    stills_bucket.download_fileobj(url,f)\n",
    "    f.seek(0)\n",
    "    # Load into a PIL Image\n",
    "    img = Image.open(f)\n",
    "    # Transform to be (224 x 224)\n",
    "    w, h = img.size\n",
    "    pad = 224 - h\n",
    "    img = img.crop((0,-pad/2,w,h+pad/2))\n",
    "    aimg = np.expand_dims(np.array(img),0).astype(\"float32\") / 255\n",
    "    t = torch.from_numpy(aimg)\n",
    "    return t.permute(0, 3, 1, 2)"
   ]
  },
  {
   "cell_type": "code",
   "execution_count": 12,
   "metadata": {},
   "outputs": [],
   "source": [
    "class MovieStills(Dataset):\n",
    "    def __init__(self,data):\n",
    "        self.data = data\n",
    "        \n",
    "    def __len__(self):\n",
    "        return len(self.data)\n",
    "    \n",
    "    def __getitem__(self,i):\n",
    "        return load_image(i=i)"
   ]
  },
  {
   "cell_type": "code",
   "execution_count": 13,
   "metadata": {},
   "outputs": [
    {
     "data": {
      "text/plain": [
       "(torch.Size([1, 4096]), torch.float32)"
      ]
     },
     "execution_count": 13,
     "metadata": {},
     "output_type": "execute_result"
    }
   ],
   "source": [
    "r = vgg16(load_image(i=5))\n",
    "r.shape, r.dtype"
   ]
  },
  {
   "cell_type": "markdown",
   "metadata": {},
   "source": [
    "Moving the data to AWS Postgres"
   ]
  },
  {
   "cell_type": "code",
   "execution_count": 14,
   "metadata": {},
   "outputs": [],
   "source": [
    "import psycopg2, dotenv, os\n",
    "\n",
    "dotenv.load_dotenv()\n",
    "\n",
    "DB_URL  = os.environ.get(\"AWS_DB_URL\")\n",
    "DB_PORT = os.environ.get(\"AWS_DB_PORT\")\n",
    "DB_USER = os.environ.get(\"AWS_DB_USER\")\n",
    "DB_PASS = os.environ.get(\"AWS_DB_PWD\")"
   ]
  },
  {
   "cell_type": "code",
   "execution_count": 15,
   "metadata": {},
   "outputs": [
    {
     "data": {
      "text/plain": [
       "<cursor object at 0x7f8970fec9f8; closed: 0>"
      ]
     },
     "execution_count": 15,
     "metadata": {},
     "output_type": "execute_result"
    }
   ],
   "source": [
    "db = psycopg2.connect(f\"host={DB_URL} port={DB_PORT} dbname=film-stills user={DB_USER} password={DB_PASS}\")\n",
    "cursor = db.cursor()\n",
    "cursor"
   ]
  },
  {
   "cell_type": "code",
   "execution_count": 16,
   "metadata": {},
   "outputs": [
    {
     "data": {
      "text/plain": [
       "dict_keys(['mid', 'stills', 'title', 'url', 'attrs'])"
      ]
     },
     "execution_count": 16,
     "metadata": {},
     "output_type": "execute_result"
    }
   ],
   "source": [
    "data[0].keys()"
   ]
  },
  {
   "cell_type": "code",
   "execution_count": 17,
   "metadata": {},
   "outputs": [],
   "source": [
    "cursor.execute(\"\"\"\n",
    "CREATE TABLE IF NOT EXISTS Films (\n",
    "    \"mid\" INT,\n",
    "    \"url\" TEXT,\n",
    "    \"title\" TEXT,\n",
    "    PRIMARY KEY (mid)\n",
    ");\n",
    "\"\"\")\n",
    "cursor.execute(\"\"\"CREATE TABLE IF NOT EXISTS FilmAttrs (\n",
    "    \"mid\" INT,\n",
    "    \"attr\" TEXT,\n",
    "    \"value\" TEXT,\n",
    "    PRIMARY KEY (mid, attr),\n",
    "    CONSTRAINT fk_mid\n",
    "        FOREIGN KEY(mid)\n",
    "            REFERENCES Films(mid)\n",
    ");\n",
    "\"\"\")\n",
    "cursor.execute(\"\"\"\n",
    "CREATE TABLE IF NOT EXISTS FilmStills (\n",
    "    \"mid\" INT,\n",
    "    \"sid\" INT,\n",
    "    \"path\" TEXT,\n",
    "    PRIMARY KEY (mid,sid),\n",
    "    CONSTRAINT fk_mid\n",
    "        FOREIGN KEY (mid)\n",
    "            REFERENCES Films(mid)\n",
    ");\n",
    "\"\"\")\n",
    "cursor.execute(\"\"\"\n",
    "CREATE TABLE IF NOT EXISTS EmbeddingsVGG16 (\n",
    "    \"mid\" INT,\n",
    "    \"sid\" INT,\n",
    "    \"eid\" INT,\n",
    "    \"value\" REAL,\n",
    "    PRIMARY KEY (mid,sid,embed_index),\n",
    "    CONSTRAINT fk_mid_sid\n",
    "        FOREIGN KEY (mid, sid)\n",
    "            REFERENCES FilmStills(mid, sid)\n",
    ");\n",
    "\"\"\")"
   ]
  },
  {
   "cell_type": "code",
   "execution_count": 18,
   "metadata": {},
   "outputs": [],
   "source": [
    "db.commit()"
   ]
  },
  {
   "cell_type": "markdown",
   "metadata": {},
   "source": [
    "Now let's add `data` to the database"
   ]
  },
  {
   "cell_type": "code",
   "execution_count": 19,
   "metadata": {},
   "outputs": [
    {
     "data": {
      "text/plain": [
       "{'director': 'Dan Trachtenberg',\n",
       " 'director of photography': 'Jeff Cutter',\n",
       " 'production design': 'Ramsey Avery',\n",
       " 'costume design': 'Meagan McLaughlin',\n",
       " 'year': '2016',\n",
       " 'title': '10 Cloverfield Lane'}"
      ]
     },
     "execution_count": 19,
     "metadata": {},
     "output_type": "execute_result"
    }
   ],
   "source": [
    "data[0][\"attrs\"]"
   ]
  },
  {
   "cell_type": "code",
   "execution_count": 20,
   "metadata": {},
   "outputs": [],
   "source": [
    "from IPython.display import ProgressBar"
   ]
  },
  {
   "cell_type": "code",
   "execution_count": 21,
   "metadata": {},
   "outputs": [],
   "source": [
    "def progress(iterable,length=None):\n",
    "    if length is None:\n",
    "        length = len(iterable)\n",
    "    progress = ProgressBar(length)\n",
    "    progress.display()\n",
    "    for v in iterable:\n",
    "        progress.progress += 1\n",
    "        yield v"
   ]
  },
  {
   "cell_type": "code",
   "execution_count": null,
   "metadata": {},
   "outputs": [],
   "source": [
    "for d in progress(data):\n",
    "    # Add the film to the main table\n",
    "    mid = int(d[\"mid\"])\n",
    "    cursor.execute(\n",
    "        \"INSERT INTO Films (mid, url, title) VALUES (%s,%s,%s);\",\n",
    "        (mid, d[\"url\"], d[\"title\"]))\n",
    "    db.commit()\n",
    "    # Add each of the movie attributes\n",
    "    for k, v in d[\"attrs\"].items():\n",
    "        cursor.execute(\n",
    "            \"INSERT INTO FilmAttrs (mid, attr, value) VALUES (%s, %s, %s);\",\n",
    "            (mid,k,v))\n",
    "    db.commit()\n",
    "    # Add each of the stills to the stills table\n",
    "    for sid, s in enumerate(d[\"stills\"]):\n",
    "        cursor.execute(\n",
    "            \"INSERT INTO FilmStills (mid, sid, path) VALUES (%s, %s, %s);\",\n",
    "            (mid,sid,s))\n",
    "    db.commit()"
   ]
  },
  {
   "cell_type": "markdown",
   "metadata": {},
   "source": [
    "***"
   ]
  },
  {
   "cell_type": "code",
   "execution_count": null,
   "metadata": {},
   "outputs": [
    {
     "data": {
      "text/html": [
       "<progress style='width:60ex' max='2143' value='3'></progress>"
      ],
      "text/plain": [
       "[                                                            ] 3/2143"
      ]
     },
     "metadata": {},
     "output_type": "display_data"
    },
    {
     "data": {
      "text/html": [
       "<progress style='width:60ex' max='65' value='2'></progress>"
      ],
      "text/plain": [
       "[=                                                           ] 2/65"
      ]
     },
     "metadata": {},
     "output_type": "display_data"
    }
   ],
   "source": [
    "p1 = ProgressBar(len(data))\n",
    "p1.display()\n",
    "p2 = ProgressBar(1)\n",
    "p2.display()\n",
    "\n",
    "for mid, d in enumerate(data):\n",
    "    p2.total = len(d[\"stills\"])\n",
    "    p2.progress = 0\n",
    "    # Generator to download images from S3\n",
    "    images = (load_image(url) for url in d[\"stills\"])\n",
    "    # Generator passing images through VGG16 model\n",
    "    embeddings = (vgg16(img)[0].tolist() for img in images)\n",
    "    # Add embeddings to Postgres\n",
    "    for sid, embedding in enumerate(embeddings):\n",
    "        for eid, e in enumerate(embedding):\n",
    "            cursor.execute(\n",
    "                \"INSERT INTO EmbeddingsVGG16 (mid,sid,eid,value) VALUES (%s,%s,%s,%s);\",\n",
    "                (mid,sid,eid,e)\n",
    "            )\n",
    "        p2.progress += 1\n",
    "        db.commit()\n",
    "    p1.progress += 1"
   ]
  },
  {
   "cell_type": "code",
   "execution_count": null,
   "metadata": {},
   "outputs": [],
   "source": [
    "db.rollback()"
   ]
  },
  {
   "cell_type": "code",
   "execution_count": null,
   "metadata": {},
   "outputs": [],
   "source": []
  },
  {
   "cell_type": "code",
   "execution_count": null,
   "metadata": {},
   "outputs": [],
   "source": []
  },
  {
   "cell_type": "markdown",
   "metadata": {},
   "source": [
    "---"
   ]
  },
  {
   "cell_type": "code",
   "execution_count": 22,
   "metadata": {},
   "outputs": [],
   "source": [
    "def load_images(urls=None,is_=None):\n",
    "    assert urls is not None or is_ is not None\n",
    "    if urls is None:\n",
    "        # Pick the correct s3 key\n",
    "        urls = movie_stills.loc[is_,\"s3_url\"]\n",
    "    d = []\n",
    "    for url in urls:\n",
    "        # Load image into a BytesIO obj\n",
    "        f = io.BytesIO()\n",
    "        stills_bucket.download_fileobj(url,f)\n",
    "        f.seek(0)\n",
    "        # Load into a PIL Image\n",
    "        img = Image.open(f)\n",
    "        # Transform to be (224 x 224)\n",
    "        w, h = img.size\n",
    "        pad = 224 - h\n",
    "        img = img.crop((0,-pad/2,w,h+pad/2))\n",
    "        d.append(np.array(img))\n",
    "    aimg = np.array(d).astype(\"float32\") / 255\n",
    "    t = torch.from_numpy(aimg)\n",
    "    return t.permute(0, 3, 1, 2)"
   ]
  },
  {
   "cell_type": "code",
   "execution_count": 23,
   "metadata": {},
   "outputs": [
    {
     "data": {
      "text/plain": [
       "array(['processed/0000_10CloverfieldLane_00000.png',\n",
       "       'processed/0000_10CloverfieldLane_00001.png',\n",
       "       'processed/0000_10CloverfieldLane_00002.png',\n",
       "       'processed/0000_10CloverfieldLane_00003.png',\n",
       "       'processed/0000_10CloverfieldLane_00004.png'], dtype=object)"
      ]
     },
     "execution_count": 23,
     "metadata": {},
     "output_type": "execute_result"
    }
   ],
   "source": [
    "movie_stills.s3_url.head().values"
   ]
  },
  {
   "cell_type": "code",
   "execution_count": 25,
   "metadata": {},
   "outputs": [],
   "source": [
    "def get_urls(mid):\n",
    "    return data[mid][\"stills\"]"
   ]
  },
  {
   "cell_type": "code",
   "execution_count": null,
   "metadata": {},
   "outputs": [],
   "source": [
    "def process_movie(d):\n",
    "    mid, urls = d\n",
    "    images = load_images(urls)\n",
    "    embeddings = vgg16(images)\n",
    "    cursor = db.cursor()\n",
    "    for sid, still in enumerate(embeddings):\n",
    "        for eid, e in enumerate(still):\n",
    "            cursor.execute(\n",
    "                \"\"\"INSERT INTO EmbeddingsVGG16 (\n",
    "                    mid,sid,eid,value\n",
    "                ) VALUES (\n",
    "                    %s,%s,%s,%s\n",
    "                );\"\"\",\n",
    "                (mid,sid,eid,e)\n",
    "            )\n",
    "        db.commit()"
   ]
  },
  {
   "cell_type": "code",
   "execution_count": null,
   "metadata": {},
   "outputs": [],
   "source": [
    "mid_urls = enumerate(m[\"stills\"][:] for m in data)\n",
    "for mid, movie in progress(enumerate(data),len(data)):\n",
    "    process_movie((mid,movie[\"stills\"]))"
   ]
  },
  {
   "cell_type": "code",
   "execution_count": null,
   "metadata": {},
   "outputs": [],
   "source": [
    "import dill as pickle\n",
    "from pathos.multiprocessing import ProcessingPool as Pool\n",
    "from toolz.sandbox.parallel import fold\n",
    "from functools import reduce"
   ]
  },
  {
   "cell_type": "code",
   "execution_count": null,
   "metadata": {},
   "outputs": [],
   "source": [
    "mid_urls = enumerate(m[\"stills\"][:] for m in data)\n",
    "with Pool() as P:\n",
    "    P.map(process_movie,mid_urls)"
   ]
  },
  {
   "cell_type": "code",
   "execution_count": null,
   "metadata": {},
   "outputs": [],
   "source": []
  },
  {
   "cell_type": "code",
   "execution_count": null,
   "metadata": {},
   "outputs": [],
   "source": [
    "db.rollback()"
   ]
  },
  {
   "cell_type": "code",
   "execution_count": null,
   "metadata": {},
   "outputs": [],
   "source": []
  },
  {
   "cell_type": "code",
   "execution_count": null,
   "metadata": {},
   "outputs": [],
   "source": []
  }
 ],
 "metadata": {
  "kernelspec": {
   "display_name": "Python 3",
   "language": "python",
   "name": "python3"
  },
  "language_info": {
   "codemirror_mode": {
    "name": "ipython",
    "version": 3
   },
   "file_extension": ".py",
   "mimetype": "text/x-python",
   "name": "python",
   "nbconvert_exporter": "python",
   "pygments_lexer": "ipython3",
   "version": "3.7.3"
  }
 },
 "nbformat": 4,
 "nbformat_minor": 4
}
