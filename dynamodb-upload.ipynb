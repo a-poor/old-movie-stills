{
 "cells": [
  {
   "cell_type": "code",
   "execution_count": 1,
   "metadata": {},
   "outputs": [],
   "source": [
    "import json\n",
    "\n",
    "import numpy as np\n",
    "import pandas as pd\n",
    "import matplotlib.pyplot as plt\n",
    "%matplotlib inline\n",
    "\n",
    "import boto3"
   ]
  },
  {
   "cell_type": "code",
   "execution_count": 7,
   "metadata": {},
   "outputs": [],
   "source": [
    "with open(\"data/bucket-objects.json\") as f:\n",
    "    data = json.load(f)\n",
    "    \n",
    "with open(\"data/file-info.json\") as f:\n",
    "    file_info = json.load(f)"
   ]
  },
  {
   "cell_type": "code",
   "execution_count": 9,
   "metadata": {},
   "outputs": [
    {
     "data": {
      "text/plain": [
       "dict_keys(['mid', 'stills'])"
      ]
     },
     "execution_count": 9,
     "metadata": {},
     "output_type": "execute_result"
    }
   ],
   "source": [
    "data[0].keys()"
   ]
  },
  {
   "cell_type": "code",
   "execution_count": 11,
   "metadata": {},
   "outputs": [
    {
     "data": {
      "text/plain": [
       "dict_keys(['title', 'url', 'attrs', 'img-links'])"
      ]
     },
     "execution_count": 11,
     "metadata": {},
     "output_type": "execute_result"
    }
   ],
   "source": [
    "file_info[0].keys()"
   ]
  },
  {
   "cell_type": "code",
   "execution_count": 5,
   "metadata": {},
   "outputs": [
    {
     "data": {
      "text/plain": [
       "s3.ServiceResource()"
      ]
     },
     "execution_count": 5,
     "metadata": {},
     "output_type": "execute_result"
    }
   ],
   "source": [
    "s3 = boto3.resource(\"s3\")"
   ]
  },
  {
   "cell_type": "code",
   "execution_count": 13,
   "metadata": {},
   "outputs": [
    {
     "data": {
      "text/plain": [
       "dynamodb.Table(name='film-stills')"
      ]
     },
     "execution_count": 13,
     "metadata": {},
     "output_type": "execute_result"
    }
   ],
   "source": [
    "dynamodb = boto3.resource(\"dynamodb\")\n",
    "table = dynamodb.Table(\"film-stills\")\n",
    "table"
   ]
  },
  {
   "cell_type": "code",
   "execution_count": 26,
   "metadata": {},
   "outputs": [],
   "source": [
    "data = [{\n",
    "    **d,\n",
    "    \"title\":file_info[mid][\"title\"],\n",
    "    \"url\":file_info[mid][\"url\"],\n",
    "    \"attrs\":{k.lower():v for k,v in file_info[mid][\"attrs\"].items()}\n",
    "} for mid, d in enumerate(data)]"
   ]
  },
  {
   "cell_type": "code",
   "execution_count": 27,
   "metadata": {},
   "outputs": [
    {
     "data": {
      "text/plain": [
       "{'mid': 0,\n",
       " 'stills': ['stills/0000_10CloverfieldLane_00000.jpg',\n",
       "  'stills/0000_10CloverfieldLane_00001.jpg',\n",
       "  'stills/0000_10CloverfieldLane_00002.jpg',\n",
       "  'stills/0000_10CloverfieldLane_00003.jpg',\n",
       "  'stills/0000_10CloverfieldLane_00004.jpg',\n",
       "  'stills/0000_10CloverfieldLane_00005.jpg',\n",
       "  'stills/0000_10CloverfieldLane_00006.jpg',\n",
       "  'stills/0000_10CloverfieldLane_00007.jpg',\n",
       "  'stills/0000_10CloverfieldLane_00008.jpg',\n",
       "  'stills/0000_10CloverfieldLane_00009.jpg',\n",
       "  'stills/0000_10CloverfieldLane_00010.jpg',\n",
       "  'stills/0000_10CloverfieldLane_00011.jpg',\n",
       "  'stills/0000_10CloverfieldLane_00012.jpg',\n",
       "  'stills/0000_10CloverfieldLane_00013.jpg',\n",
       "  'stills/0000_10CloverfieldLane_00014.jpg',\n",
       "  'stills/0000_10CloverfieldLane_00015.jpg',\n",
       "  'stills/0000_10CloverfieldLane_00016.jpg',\n",
       "  'stills/0000_10CloverfieldLane_00017.jpg',\n",
       "  'stills/0000_10CloverfieldLane_00018.jpg',\n",
       "  'stills/0000_10CloverfieldLane_00019.jpg',\n",
       "  'stills/0000_10CloverfieldLane_00020.jpg',\n",
       "  'stills/0000_10CloverfieldLane_00021.jpg',\n",
       "  'stills/0000_10CloverfieldLane_00022.jpg',\n",
       "  'stills/0000_10CloverfieldLane_00023.jpg',\n",
       "  'stills/0000_10CloverfieldLane_00024.jpg',\n",
       "  'stills/0000_10CloverfieldLane_00025.jpg',\n",
       "  'stills/0000_10CloverfieldLane_00026.jpg',\n",
       "  'stills/0000_10CloverfieldLane_00027.jpg',\n",
       "  'stills/0000_10CloverfieldLane_00028.jpg',\n",
       "  'stills/0000_10CloverfieldLane_00029.jpg',\n",
       "  'stills/0000_10CloverfieldLane_00030.jpg',\n",
       "  'stills/0000_10CloverfieldLane_00031.jpg',\n",
       "  'stills/0000_10CloverfieldLane_00032.jpg',\n",
       "  'stills/0000_10CloverfieldLane_00033.jpg',\n",
       "  'stills/0000_10CloverfieldLane_00034.jpg',\n",
       "  'stills/0000_10CloverfieldLane_00035.jpg',\n",
       "  'stills/0000_10CloverfieldLane_00036.jpg',\n",
       "  'stills/0000_10CloverfieldLane_00037.jpg',\n",
       "  'stills/0000_10CloverfieldLane_00038.jpg',\n",
       "  'stills/0000_10CloverfieldLane_00039.jpg',\n",
       "  'stills/0000_10CloverfieldLane_00040.jpg',\n",
       "  'stills/0000_10CloverfieldLane_00041.jpg',\n",
       "  'stills/0000_10CloverfieldLane_00042.jpg',\n",
       "  'stills/0000_10CloverfieldLane_00043.jpg',\n",
       "  'stills/0000_10CloverfieldLane_00044.jpg',\n",
       "  'stills/0000_10CloverfieldLane_00045.jpg',\n",
       "  'stills/0000_10CloverfieldLane_00046.jpg',\n",
       "  'stills/0000_10CloverfieldLane_00047.jpg',\n",
       "  'stills/0000_10CloverfieldLane_00048.jpg',\n",
       "  'stills/0000_10CloverfieldLane_00049.jpg',\n",
       "  'stills/0000_10CloverfieldLane_00050.jpg',\n",
       "  'stills/0000_10CloverfieldLane_00051.jpg',\n",
       "  'stills/0000_10CloverfieldLane_00052.jpg',\n",
       "  'stills/0000_10CloverfieldLane_00053.jpg',\n",
       "  'stills/0000_10CloverfieldLane_00054.jpg',\n",
       "  'stills/0000_10CloverfieldLane_00055.jpg',\n",
       "  'stills/0000_10CloverfieldLane_00056.jpg',\n",
       "  'stills/0000_10CloverfieldLane_00057.jpg',\n",
       "  'stills/0000_10CloverfieldLane_00058.jpg',\n",
       "  'stills/0000_10CloverfieldLane_00059.jpg',\n",
       "  'stills/0000_10CloverfieldLane_00060.jpg',\n",
       "  'stills/0000_10CloverfieldLane_00061.jpg',\n",
       "  'stills/0000_10CloverfieldLane_00062.jpg',\n",
       "  'stills/0000_10CloverfieldLane_00063.jpg',\n",
       "  'stills/0000_10CloverfieldLane_00064.jpg'],\n",
       " 'title': '10 Cloverfield Lane',\n",
       " 'url': 'https://film-grab.com/2017/03/24/10-cloverfield-lane/',\n",
       " 'attrs': {'director': 'Dan Trachtenberg',\n",
       "  'director of photography': 'Jeff Cutter',\n",
       "  'production design': 'Ramsey Avery',\n",
       "  'costume design': 'Meagan McLaughlin',\n",
       "  'year': '2016',\n",
       "  'title': '10 Cloverfield Lane'}}"
      ]
     },
     "execution_count": 27,
     "metadata": {},
     "output_type": "execute_result"
    }
   ],
   "source": [
    "data[0]"
   ]
  },
  {
   "cell_type": "code",
   "execution_count": 41,
   "metadata": {},
   "outputs": [],
   "source": [
    "import itertools"
   ]
  },
  {
   "cell_type": "code",
   "execution_count": 46,
   "metadata": {},
   "outputs": [],
   "source": [
    "def get_all_attrs():\n",
    "    return set(chain(*(d[\"attrs\"].keys() for d in data)))"
   ]
  },
  {
   "cell_type": "code",
   "execution_count": 49,
   "metadata": {},
   "outputs": [
    {
     "data": {
      "text/plain": [
       "{'#bwg_container1_0 #bwg_container2_0 .bwg_masonry_thumb_0 {        text-align',\n",
       " 'animation sequence director',\n",
       " 'costume',\n",
       " 'costume design',\n",
       " 'costume designer',\n",
       " 'dir',\n",
       " 'directed by',\n",
       " 'directir of photography',\n",
       " 'director',\n",
       " 'director of photography',\n",
       " 'director of production',\n",
       " 'directors',\n",
       " 'directors of photography',\n",
       " 'dop',\n",
       " 'dorector of photography',\n",
       " 'note',\n",
       " 'product design',\n",
       " 'production design',\n",
       " 'production designer',\n",
       " 'purchase 2001',\n",
       " 'purchase ali',\n",
       " 'purchase alien',\n",
       " 'purchase avengers',\n",
       " 'purchase bad lieutenant',\n",
       " 'purchase batman v superman',\n",
       " 'purchase captain america',\n",
       " 'purchase dominion',\n",
       " 'purchase dracula',\n",
       " 'purchase first name',\n",
       " 'purchase freddy’s dead',\n",
       " 'purchase ga-ga',\n",
       " 'purchase ghost dog',\n",
       " 'purchase hellboy ii',\n",
       " 'purchase history of the world',\n",
       " 'purchase kong',\n",
       " 'purchase lady snowblood',\n",
       " 'purchase lone wolf and cub',\n",
       " 'purchase léon',\n",
       " 'purchase mad max',\n",
       " 'purchase mishima',\n",
       " 'purchase mission',\n",
       " 'purchase mission impossible',\n",
       " 'purchase paradise',\n",
       " 'purchase punisher',\n",
       " 'purchase resident evil',\n",
       " 'purchase sin city',\n",
       " 'purchase solo',\n",
       " 'purchase spider man',\n",
       " 'purchase spider-man',\n",
       " 'purchase star wars',\n",
       " 'purchase the lord of the rings',\n",
       " 'purchase the purge',\n",
       " 'purchase the war of the worlds',\n",
       " 'purchase thor',\n",
       " 'purchase three colours',\n",
       " 'purchase twin peaks',\n",
       " 'purchase wr',\n",
       " 'title',\n",
       " 'year'}"
      ]
     },
     "execution_count": 49,
     "metadata": {},
     "output_type": "execute_result"
    }
   ],
   "source": [
    "get_all_attrs()"
   ]
  },
  {
   "cell_type": "code",
   "execution_count": 52,
   "metadata": {},
   "outputs": [
    {
     "data": {
      "text/plain": [
       "{'#bwg_container1_0 #bwg_container2_0 .bwg_masonry_thumb_0 {        text-align',\n",
       " 'animation sequence director',\n",
       " 'costume',\n",
       " 'costume design',\n",
       " 'costume designer',\n",
       " 'dir',\n",
       " 'directed by',\n",
       " 'directir of photography',\n",
       " 'director',\n",
       " 'director of photography',\n",
       " 'director of production',\n",
       " 'directors',\n",
       " 'directors of photography',\n",
       " 'dop',\n",
       " 'dorector of photography',\n",
       " 'note',\n",
       " 'product design',\n",
       " 'production design',\n",
       " 'production designer',\n",
       " 'title',\n",
       " 'year'}"
      ]
     },
     "execution_count": 52,
     "metadata": {},
     "output_type": "execute_result"
    }
   ],
   "source": [
    "# Get rid of any of the attributes\n",
    "# with \"purchase\" in the name\n",
    "for d in data:\n",
    "    a2d = set()\n",
    "    for a in d[\"attrs\"].keys():\n",
    "        if \"purchase\" in a:\n",
    "            a2d.add(a)\n",
    "    for a in a2d: del d[\"attrs\"][a]\n",
    "            \n",
    "get_all_attrs()"
   ]
  },
  {
   "cell_type": "code",
   "execution_count": 53,
   "metadata": {},
   "outputs": [
    {
     "data": {
      "text/plain": [
       "{'animation sequence director',\n",
       " 'costume',\n",
       " 'costume design',\n",
       " 'costume designer',\n",
       " 'dir',\n",
       " 'directed by',\n",
       " 'directir of photography',\n",
       " 'director',\n",
       " 'director of photography',\n",
       " 'director of production',\n",
       " 'directors',\n",
       " 'directors of photography',\n",
       " 'dop',\n",
       " 'dorector of photography',\n",
       " 'note',\n",
       " 'product design',\n",
       " 'production design',\n",
       " 'production designer',\n",
       " 'title',\n",
       " 'year'}"
      ]
     },
     "execution_count": 53,
     "metadata": {},
     "output_type": "execute_result"
    }
   ],
   "source": [
    "# Get rid of the bad index value\n",
    "for d in data:\n",
    "    if \"#bwg_container1_0 #bwg_container2_0 .bwg_masonry_thumb_0 {        text-align\" in d[\"attrs\"]:\n",
    "        del d[\"attrs\"][\"#bwg_container1_0 #bwg_container2_0 .bwg_masonry_thumb_0 {        text-align\"]\n",
    "            \n",
    "get_all_attrs()"
   ]
  },
  {
   "cell_type": "code",
   "execution_count": 56,
   "metadata": {},
   "outputs": [],
   "source": [
    "def rename(attrs,old,new):\n",
    "    if old in attrs:\n",
    "        attrs[new] = attrs[old]\n",
    "        del attrs[old]\n",
    "    return attrs     "
   ]
  },
  {
   "cell_type": "code",
   "execution_count": 68,
   "metadata": {},
   "outputs": [],
   "source": [
    "to_rename = {\n",
    "    'costume': 'costume design',\n",
    "    'costume designer': 'costume design',\n",
    "    'dir': 'director',\n",
    "    'directed by': 'director',\n",
    "    'directir of photography': 'director of photography',\n",
    "    'directors': 'director',\n",
    "    'directors of photography': 'director of photography',\n",
    "    'dop': 'director of photography',\n",
    "    'dorector of photography': 'director of photography',\n",
    "    'product design': 'production design',\n",
    "    'production designer': 'production design',\n",
    "}"
   ]
  },
  {
   "cell_type": "code",
   "execution_count": 70,
   "metadata": {},
   "outputs": [
    {
     "data": {
      "text/plain": [
       "{'animation sequence director',\n",
       " 'costume design',\n",
       " 'director',\n",
       " 'director of photography',\n",
       " 'director of production',\n",
       " 'note',\n",
       " 'production design',\n",
       " 'title',\n",
       " 'year'}"
      ]
     },
     "execution_count": 70,
     "metadata": {},
     "output_type": "execute_result"
    }
   ],
   "source": [
    "for d in data:\n",
    "    for a, b in to_rename.items():\n",
    "        rename(d[\"attrs\"],a,b)\n",
    "\n",
    "get_all_attrs()"
   ]
  },
  {
   "cell_type": "code",
   "execution_count": 76,
   "metadata": {},
   "outputs": [
    {
     "data": {
      "text/plain": [
       "{'animation sequence director',\n",
       " 'costume design',\n",
       " 'director',\n",
       " 'director of photography',\n",
       " 'director of production',\n",
       " 'production design',\n",
       " 'title',\n",
       " 'year'}"
      ]
     },
     "execution_count": 76,
     "metadata": {},
     "output_type": "execute_result"
    }
   ],
   "source": [
    "for d in data:\n",
    "    if \"note\" in d[\"attrs\"]:\n",
    "        del d[\"attrs\"][\"note\"]\n",
    "        \n",
    "get_all_attrs()"
   ]
  },
  {
   "cell_type": "code",
   "execution_count": 77,
   "metadata": {},
   "outputs": [
    {
     "data": {
      "text/plain": [
       "{'mid': 0,\n",
       " 'stills': ['stills/0000_10CloverfieldLane_00000.jpg',\n",
       "  'stills/0000_10CloverfieldLane_00001.jpg',\n",
       "  'stills/0000_10CloverfieldLane_00002.jpg',\n",
       "  'stills/0000_10CloverfieldLane_00003.jpg',\n",
       "  'stills/0000_10CloverfieldLane_00004.jpg',\n",
       "  'stills/0000_10CloverfieldLane_00005.jpg',\n",
       "  'stills/0000_10CloverfieldLane_00006.jpg',\n",
       "  'stills/0000_10CloverfieldLane_00007.jpg',\n",
       "  'stills/0000_10CloverfieldLane_00008.jpg',\n",
       "  'stills/0000_10CloverfieldLane_00009.jpg',\n",
       "  'stills/0000_10CloverfieldLane_00010.jpg',\n",
       "  'stills/0000_10CloverfieldLane_00011.jpg',\n",
       "  'stills/0000_10CloverfieldLane_00012.jpg',\n",
       "  'stills/0000_10CloverfieldLane_00013.jpg',\n",
       "  'stills/0000_10CloverfieldLane_00014.jpg',\n",
       "  'stills/0000_10CloverfieldLane_00015.jpg',\n",
       "  'stills/0000_10CloverfieldLane_00016.jpg',\n",
       "  'stills/0000_10CloverfieldLane_00017.jpg',\n",
       "  'stills/0000_10CloverfieldLane_00018.jpg',\n",
       "  'stills/0000_10CloverfieldLane_00019.jpg',\n",
       "  'stills/0000_10CloverfieldLane_00020.jpg',\n",
       "  'stills/0000_10CloverfieldLane_00021.jpg',\n",
       "  'stills/0000_10CloverfieldLane_00022.jpg',\n",
       "  'stills/0000_10CloverfieldLane_00023.jpg',\n",
       "  'stills/0000_10CloverfieldLane_00024.jpg',\n",
       "  'stills/0000_10CloverfieldLane_00025.jpg',\n",
       "  'stills/0000_10CloverfieldLane_00026.jpg',\n",
       "  'stills/0000_10CloverfieldLane_00027.jpg',\n",
       "  'stills/0000_10CloverfieldLane_00028.jpg',\n",
       "  'stills/0000_10CloverfieldLane_00029.jpg',\n",
       "  'stills/0000_10CloverfieldLane_00030.jpg',\n",
       "  'stills/0000_10CloverfieldLane_00031.jpg',\n",
       "  'stills/0000_10CloverfieldLane_00032.jpg',\n",
       "  'stills/0000_10CloverfieldLane_00033.jpg',\n",
       "  'stills/0000_10CloverfieldLane_00034.jpg',\n",
       "  'stills/0000_10CloverfieldLane_00035.jpg',\n",
       "  'stills/0000_10CloverfieldLane_00036.jpg',\n",
       "  'stills/0000_10CloverfieldLane_00037.jpg',\n",
       "  'stills/0000_10CloverfieldLane_00038.jpg',\n",
       "  'stills/0000_10CloverfieldLane_00039.jpg',\n",
       "  'stills/0000_10CloverfieldLane_00040.jpg',\n",
       "  'stills/0000_10CloverfieldLane_00041.jpg',\n",
       "  'stills/0000_10CloverfieldLane_00042.jpg',\n",
       "  'stills/0000_10CloverfieldLane_00043.jpg',\n",
       "  'stills/0000_10CloverfieldLane_00044.jpg',\n",
       "  'stills/0000_10CloverfieldLane_00045.jpg',\n",
       "  'stills/0000_10CloverfieldLane_00046.jpg',\n",
       "  'stills/0000_10CloverfieldLane_00047.jpg',\n",
       "  'stills/0000_10CloverfieldLane_00048.jpg',\n",
       "  'stills/0000_10CloverfieldLane_00049.jpg',\n",
       "  'stills/0000_10CloverfieldLane_00050.jpg',\n",
       "  'stills/0000_10CloverfieldLane_00051.jpg',\n",
       "  'stills/0000_10CloverfieldLane_00052.jpg',\n",
       "  'stills/0000_10CloverfieldLane_00053.jpg',\n",
       "  'stills/0000_10CloverfieldLane_00054.jpg',\n",
       "  'stills/0000_10CloverfieldLane_00055.jpg',\n",
       "  'stills/0000_10CloverfieldLane_00056.jpg',\n",
       "  'stills/0000_10CloverfieldLane_00057.jpg',\n",
       "  'stills/0000_10CloverfieldLane_00058.jpg',\n",
       "  'stills/0000_10CloverfieldLane_00059.jpg',\n",
       "  'stills/0000_10CloverfieldLane_00060.jpg',\n",
       "  'stills/0000_10CloverfieldLane_00061.jpg',\n",
       "  'stills/0000_10CloverfieldLane_00062.jpg',\n",
       "  'stills/0000_10CloverfieldLane_00063.jpg',\n",
       "  'stills/0000_10CloverfieldLane_00064.jpg'],\n",
       " 'title': '10 Cloverfield Lane',\n",
       " 'url': 'https://film-grab.com/2017/03/24/10-cloverfield-lane/',\n",
       " 'attrs': {'director': 'Dan Trachtenberg',\n",
       "  'director of photography': 'Jeff Cutter',\n",
       "  'production design': 'Ramsey Avery',\n",
       "  'costume design': 'Meagan McLaughlin',\n",
       "  'year': '2016',\n",
       "  'title': '10 Cloverfield Lane'}}"
      ]
     },
     "execution_count": 77,
     "metadata": {},
     "output_type": "execute_result"
    }
   ],
   "source": [
    "data[0]"
   ]
  },
  {
   "cell_type": "code",
   "execution_count": 78,
   "metadata": {},
   "outputs": [],
   "source": [
    "import pathlib"
   ]
  },
  {
   "cell_type": "code",
   "execution_count": 85,
   "metadata": {},
   "outputs": [],
   "source": [
    "processed = pathlib.Path(\"processed\")\n",
    "for d in data:\n",
    "    d[\"stills\"] = [str(processed / pathlib.Path(s).with_suffix(\".png\").name) for s in d[\"stills\"]]"
   ]
  },
  {
   "cell_type": "code",
   "execution_count": 92,
   "metadata": {},
   "outputs": [],
   "source": [
    "data = [{**d,\"mid\":f\"{mid:04d}\"} for mid,d in enumerate(data)]"
   ]
  },
  {
   "cell_type": "code",
   "execution_count": 93,
   "metadata": {},
   "outputs": [
    {
     "data": {
      "text/plain": [
       "{'mid': '0000',\n",
       " 'stills': ['processed/0000_10CloverfieldLane_00000.png',\n",
       "  'processed/0000_10CloverfieldLane_00001.png',\n",
       "  'processed/0000_10CloverfieldLane_00002.png',\n",
       "  'processed/0000_10CloverfieldLane_00003.png',\n",
       "  'processed/0000_10CloverfieldLane_00004.png',\n",
       "  'processed/0000_10CloverfieldLane_00005.png',\n",
       "  'processed/0000_10CloverfieldLane_00006.png',\n",
       "  'processed/0000_10CloverfieldLane_00007.png',\n",
       "  'processed/0000_10CloverfieldLane_00008.png',\n",
       "  'processed/0000_10CloverfieldLane_00009.png',\n",
       "  'processed/0000_10CloverfieldLane_00010.png',\n",
       "  'processed/0000_10CloverfieldLane_00011.png',\n",
       "  'processed/0000_10CloverfieldLane_00012.png',\n",
       "  'processed/0000_10CloverfieldLane_00013.png',\n",
       "  'processed/0000_10CloverfieldLane_00014.png',\n",
       "  'processed/0000_10CloverfieldLane_00015.png',\n",
       "  'processed/0000_10CloverfieldLane_00016.png',\n",
       "  'processed/0000_10CloverfieldLane_00017.png',\n",
       "  'processed/0000_10CloverfieldLane_00018.png',\n",
       "  'processed/0000_10CloverfieldLane_00019.png',\n",
       "  'processed/0000_10CloverfieldLane_00020.png',\n",
       "  'processed/0000_10CloverfieldLane_00021.png',\n",
       "  'processed/0000_10CloverfieldLane_00022.png',\n",
       "  'processed/0000_10CloverfieldLane_00023.png',\n",
       "  'processed/0000_10CloverfieldLane_00024.png',\n",
       "  'processed/0000_10CloverfieldLane_00025.png',\n",
       "  'processed/0000_10CloverfieldLane_00026.png',\n",
       "  'processed/0000_10CloverfieldLane_00027.png',\n",
       "  'processed/0000_10CloverfieldLane_00028.png',\n",
       "  'processed/0000_10CloverfieldLane_00029.png',\n",
       "  'processed/0000_10CloverfieldLane_00030.png',\n",
       "  'processed/0000_10CloverfieldLane_00031.png',\n",
       "  'processed/0000_10CloverfieldLane_00032.png',\n",
       "  'processed/0000_10CloverfieldLane_00033.png',\n",
       "  'processed/0000_10CloverfieldLane_00034.png',\n",
       "  'processed/0000_10CloverfieldLane_00035.png',\n",
       "  'processed/0000_10CloverfieldLane_00036.png',\n",
       "  'processed/0000_10CloverfieldLane_00037.png',\n",
       "  'processed/0000_10CloverfieldLane_00038.png',\n",
       "  'processed/0000_10CloverfieldLane_00039.png',\n",
       "  'processed/0000_10CloverfieldLane_00040.png',\n",
       "  'processed/0000_10CloverfieldLane_00041.png',\n",
       "  'processed/0000_10CloverfieldLane_00042.png',\n",
       "  'processed/0000_10CloverfieldLane_00043.png',\n",
       "  'processed/0000_10CloverfieldLane_00044.png',\n",
       "  'processed/0000_10CloverfieldLane_00045.png',\n",
       "  'processed/0000_10CloverfieldLane_00046.png',\n",
       "  'processed/0000_10CloverfieldLane_00047.png',\n",
       "  'processed/0000_10CloverfieldLane_00048.png',\n",
       "  'processed/0000_10CloverfieldLane_00049.png',\n",
       "  'processed/0000_10CloverfieldLane_00050.png',\n",
       "  'processed/0000_10CloverfieldLane_00051.png',\n",
       "  'processed/0000_10CloverfieldLane_00052.png',\n",
       "  'processed/0000_10CloverfieldLane_00053.png',\n",
       "  'processed/0000_10CloverfieldLane_00054.png',\n",
       "  'processed/0000_10CloverfieldLane_00055.png',\n",
       "  'processed/0000_10CloverfieldLane_00056.png',\n",
       "  'processed/0000_10CloverfieldLane_00057.png',\n",
       "  'processed/0000_10CloverfieldLane_00058.png',\n",
       "  'processed/0000_10CloverfieldLane_00059.png',\n",
       "  'processed/0000_10CloverfieldLane_00060.png',\n",
       "  'processed/0000_10CloverfieldLane_00061.png',\n",
       "  'processed/0000_10CloverfieldLane_00062.png',\n",
       "  'processed/0000_10CloverfieldLane_00063.png',\n",
       "  'processed/0000_10CloverfieldLane_00064.png'],\n",
       " 'title': '10 Cloverfield Lane',\n",
       " 'url': 'https://film-grab.com/2017/03/24/10-cloverfield-lane/',\n",
       " 'attrs': {'director': 'Dan Trachtenberg',\n",
       "  'director of photography': 'Jeff Cutter',\n",
       "  'production design': 'Ramsey Avery',\n",
       "  'costume design': 'Meagan McLaughlin',\n",
       "  'year': '2016',\n",
       "  'title': '10 Cloverfield Lane'}}"
      ]
     },
     "execution_count": 93,
     "metadata": {},
     "output_type": "execute_result"
    }
   ],
   "source": [
    "data[0]"
   ]
  },
  {
   "cell_type": "code",
   "execution_count": 94,
   "metadata": {},
   "outputs": [],
   "source": [
    "with table.batch_writer() as batch:\n",
    "    for d in data:\n",
    "        batch.put_item(Item=d)"
   ]
  },
  {
   "cell_type": "code",
   "execution_count": 95,
   "metadata": {},
   "outputs": [
    {
     "data": {
      "text/plain": [
       "datetime.datetime(2020, 8, 9, 20, 27, 40, 433000, tzinfo=tzlocal())"
      ]
     },
     "execution_count": 95,
     "metadata": {},
     "output_type": "execute_result"
    }
   ],
   "source": [
    "table.creation_date_time"
   ]
  },
  {
   "cell_type": "code",
   "execution_count": 96,
   "metadata": {},
   "outputs": [
    {
     "data": {
      "text/plain": [
       "0"
      ]
     },
     "execution_count": 96,
     "metadata": {},
     "output_type": "execute_result"
    }
   ],
   "source": [
    "table.item_count"
   ]
  },
  {
   "cell_type": "code",
   "execution_count": 98,
   "metadata": {},
   "outputs": [
    {
     "data": {
      "text/plain": [
       "{'Item': {'stills': ['processed/0000_10CloverfieldLane_00000.png',\n",
       "   'processed/0000_10CloverfieldLane_00001.png',\n",
       "   'processed/0000_10CloverfieldLane_00002.png',\n",
       "   'processed/0000_10CloverfieldLane_00003.png',\n",
       "   'processed/0000_10CloverfieldLane_00004.png',\n",
       "   'processed/0000_10CloverfieldLane_00005.png',\n",
       "   'processed/0000_10CloverfieldLane_00006.png',\n",
       "   'processed/0000_10CloverfieldLane_00007.png',\n",
       "   'processed/0000_10CloverfieldLane_00008.png',\n",
       "   'processed/0000_10CloverfieldLane_00009.png',\n",
       "   'processed/0000_10CloverfieldLane_00010.png',\n",
       "   'processed/0000_10CloverfieldLane_00011.png',\n",
       "   'processed/0000_10CloverfieldLane_00012.png',\n",
       "   'processed/0000_10CloverfieldLane_00013.png',\n",
       "   'processed/0000_10CloverfieldLane_00014.png',\n",
       "   'processed/0000_10CloverfieldLane_00015.png',\n",
       "   'processed/0000_10CloverfieldLane_00016.png',\n",
       "   'processed/0000_10CloverfieldLane_00017.png',\n",
       "   'processed/0000_10CloverfieldLane_00018.png',\n",
       "   'processed/0000_10CloverfieldLane_00019.png',\n",
       "   'processed/0000_10CloverfieldLane_00020.png',\n",
       "   'processed/0000_10CloverfieldLane_00021.png',\n",
       "   'processed/0000_10CloverfieldLane_00022.png',\n",
       "   'processed/0000_10CloverfieldLane_00023.png',\n",
       "   'processed/0000_10CloverfieldLane_00024.png',\n",
       "   'processed/0000_10CloverfieldLane_00025.png',\n",
       "   'processed/0000_10CloverfieldLane_00026.png',\n",
       "   'processed/0000_10CloverfieldLane_00027.png',\n",
       "   'processed/0000_10CloverfieldLane_00028.png',\n",
       "   'processed/0000_10CloverfieldLane_00029.png',\n",
       "   'processed/0000_10CloverfieldLane_00030.png',\n",
       "   'processed/0000_10CloverfieldLane_00031.png',\n",
       "   'processed/0000_10CloverfieldLane_00032.png',\n",
       "   'processed/0000_10CloverfieldLane_00033.png',\n",
       "   'processed/0000_10CloverfieldLane_00034.png',\n",
       "   'processed/0000_10CloverfieldLane_00035.png',\n",
       "   'processed/0000_10CloverfieldLane_00036.png',\n",
       "   'processed/0000_10CloverfieldLane_00037.png',\n",
       "   'processed/0000_10CloverfieldLane_00038.png',\n",
       "   'processed/0000_10CloverfieldLane_00039.png',\n",
       "   'processed/0000_10CloverfieldLane_00040.png',\n",
       "   'processed/0000_10CloverfieldLane_00041.png',\n",
       "   'processed/0000_10CloverfieldLane_00042.png',\n",
       "   'processed/0000_10CloverfieldLane_00043.png',\n",
       "   'processed/0000_10CloverfieldLane_00044.png',\n",
       "   'processed/0000_10CloverfieldLane_00045.png',\n",
       "   'processed/0000_10CloverfieldLane_00046.png',\n",
       "   'processed/0000_10CloverfieldLane_00047.png',\n",
       "   'processed/0000_10CloverfieldLane_00048.png',\n",
       "   'processed/0000_10CloverfieldLane_00049.png',\n",
       "   'processed/0000_10CloverfieldLane_00050.png',\n",
       "   'processed/0000_10CloverfieldLane_00051.png',\n",
       "   'processed/0000_10CloverfieldLane_00052.png',\n",
       "   'processed/0000_10CloverfieldLane_00053.png',\n",
       "   'processed/0000_10CloverfieldLane_00054.png',\n",
       "   'processed/0000_10CloverfieldLane_00055.png',\n",
       "   'processed/0000_10CloverfieldLane_00056.png',\n",
       "   'processed/0000_10CloverfieldLane_00057.png',\n",
       "   'processed/0000_10CloverfieldLane_00058.png',\n",
       "   'processed/0000_10CloverfieldLane_00059.png',\n",
       "   'processed/0000_10CloverfieldLane_00060.png',\n",
       "   'processed/0000_10CloverfieldLane_00061.png',\n",
       "   'processed/0000_10CloverfieldLane_00062.png',\n",
       "   'processed/0000_10CloverfieldLane_00063.png',\n",
       "   'processed/0000_10CloverfieldLane_00064.png'],\n",
       "  'attrs': {'costume design': 'Meagan McLaughlin',\n",
       "   'production design': 'Ramsey Avery',\n",
       "   'title': '10 Cloverfield Lane',\n",
       "   'year': '2016',\n",
       "   'director': 'Dan Trachtenberg',\n",
       "   'director of photography': 'Jeff Cutter'},\n",
       "  'url': 'https://film-grab.com/2017/03/24/10-cloverfield-lane/',\n",
       "  'mid': '0000',\n",
       "  'title': '10 Cloverfield Lane'},\n",
       " 'ResponseMetadata': {'RequestId': '7RS9G60NCK4QAG83J449O93KKVVV4KQNSO5AEMVJF66Q9ASUAAJG',\n",
       "  'HTTPStatusCode': 200,\n",
       "  'HTTPHeaders': {'server': 'Server',\n",
       "   'date': 'Mon, 10 Aug 2020 02:14:03 GMT',\n",
       "   'content-type': 'application/x-amz-json-1.0',\n",
       "   'content-length': '3703',\n",
       "   'connection': 'keep-alive',\n",
       "   'x-amzn-requestid': '7RS9G60NCK4QAG83J449O93KKVVV4KQNSO5AEMVJF66Q9ASUAAJG',\n",
       "   'x-amz-crc32': '914502672'},\n",
       "  'RetryAttempts': 0}}"
      ]
     },
     "execution_count": 98,
     "metadata": {},
     "output_type": "execute_result"
    }
   ],
   "source": [
    "table.get_item(Key={\"mid\":\"0000\"})"
   ]
  },
  {
   "cell_type": "code",
   "execution_count": null,
   "metadata": {},
   "outputs": [],
   "source": []
  }
 ],
 "metadata": {
  "kernelspec": {
   "display_name": "Python 3",
   "language": "python",
   "name": "python3"
  },
  "language_info": {
   "codemirror_mode": {
    "name": "ipython",
    "version": 3
   },
   "file_extension": ".py",
   "mimetype": "text/x-python",
   "name": "python",
   "nbconvert_exporter": "python",
   "pygments_lexer": "ipython3",
   "version": "3.7.3"
  }
 },
 "nbformat": 4,
 "nbformat_minor": 4
}
